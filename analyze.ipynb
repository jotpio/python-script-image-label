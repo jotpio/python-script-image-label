{
 "cells": [
  {
   "cell_type": "code",
   "execution_count": 1,
   "metadata": {},
   "outputs": [],
   "source": [
    "import os \n",
    "import json\n",
    "import time\n",
    "import numpy as np\n",
    "import pandas as pd\n",
    "from scipy.spatial import distance_matrix\n",
    "import matplotlib.pyplot as plt\n",
    "import seaborn as sns\n",
    "import matplotlib.cbook as cbook\n",
    "#from scipy.misc import imread\n",
    "from matplotlib.pyplot import imread\n",
    "\n",
    "from importlib import reload\n",
    "%load_ext autoreload\n",
    "%autoreload 2\n",
    "import AnalyzeAnnotations as aa\n",
    "import PlotAnnotations as pa\n",
    "\n",
    "from tqdm import tqdm_notebook\n",
    "\n",
    "pd.options.display.max_colwidth = 400\n",
    "sns.set()"
   ]
  },
  {
   "cell_type": "markdown",
   "metadata": {},
   "source": [
    "### <span style=\"color:red\"> Load sloth jsons </span> into array of pandas dataframes"
   ]
  },
  {
   "cell_type": "code",
   "execution_count": 2,
   "metadata": {},
   "outputs": [
    {
     "name": "stdout",
     "output_type": "stream",
     "text": [
      "12/12/2019, 20:45:55:      Path to be loaded: ./data/testdata/\n",
      "Number of json files loaded: 37\n"
     ]
    }
   ],
   "source": [
    "# load all json files from datapath into array of pandas dataframes\n",
    "path ='./data/20191031_MIxedSpecies_Photos_final_annotations/'\n",
    "path = './data/testdata/'\n",
    "\n",
    "df_stats, all_df, json_files = aa.loadAllJSONSFromPath(path)\n",
    "print(f\"{time.strftime('%d/%m/%Y, %H:%M:%S', time.localtime())}:      Path to be loaded: {path}\")\n",
    "print('Number of json files loaded: ' + str(len(all_df)))"
   ]
  },
  {
   "cell_type": "markdown",
   "metadata": {},
   "source": [
    "#### Calculate abundance of classes"
   ]
  },
  {
   "cell_type": "code",
   "execution_count": 3,
   "metadata": {
    "scrolled": true
   },
   "outputs": [
    {
     "name": "stdout",
     "output_type": "stream",
     "text": [
      "                                 #fish  #fish2  #fish3  #allfishes\n",
      "IMG_5529_annotations_al.json       136       0       0         136\n",
      "IMG_5587_annotations_al.json         9       6       0          15\n",
      "IMG_5590_annotations_al.json        13       9       0          22\n",
      "IMG_5616_annotations_al_jl.json    141      15       1         157\n",
      "IMG_5643_annotations_al_jl.json    157      19       3         179\n",
      "IMG_5666_annotations_al_jl.json    166       0       0         166\n",
      "IMG_5673_annotations_al_jl.json    137       0       0         137\n",
      "IMG_5681_annotations_al_jl.json    261       0       0         261\n",
      "IMG_5688_annotations_al_jl.json     67       0       1          68\n",
      "IMG_5693_annotations_al_jl.json     78       0       0          78\n",
      "IMG_5699_annotations_al_jl.json     42       1       0          43\n",
      "IMG_5701_annotations_al_jl.json    150       1       0         151\n",
      "IMG_5712_annotations_al_jl.json    169       0       0         169\n",
      "IMG_5718_annotations_al_jl.json    272       0       1         273\n",
      "IMG_5721_annotations_al.json        23       2       0          25\n",
      "IMG_5728_annotations_al.json       184       0       3         187\n",
      "IMG_5732_annotations_al_jl.json     99       2       0         101\n",
      "IMG_5738_annotations_al.json       122       0       0         122\n",
      "IMG_5748_annotations_al_jl.json    130       0       2         132\n",
      "IMG_5753_annotations_al.json       141       0       1         142\n",
      "IMG_5766_annotations_al_jl.json    197       0       1         198\n",
      "IMG_5777_annotations_al_jl.json      0      22       0          22\n",
      "IMG_5791_annotations_al.json         6      36       0          42\n",
      "IMG_5792_annotated_jl.json          17      44       0          61\n",
      "IMG_5793_annotations_al.json         3      18       0          21\n",
      "IMG_5795_annotations_al.json         6      12       0          18\n",
      "IMG_5806_annotations_al_jl.json      4      12       0          16\n",
      "IMG_5810_annotations_al_jl.json      0      17       0          17\n",
      "IMG_5811_annotations_al.json        23       4       0          27\n",
      "IMG_5823_annotations_al_jl.json      0      29       0          29\n",
      "IMG_5825_annotated_jl.json          17      44       0          61\n",
      "IMG_5826_annotations_al_jl.json     93       0       1          94\n",
      "IMG_5830_annotations_al_jl.json     39       4       0          43\n",
      "IMG_5832_annotated_jl.json          17      44       0          61\n",
      "IMG_5834_annotations_al_jl.json      0      15       0          15\n",
      "IMG_5837_annotations_al.json         6       6       0          12\n",
      "IMG_5843_annotations_al_jl.json      8      11       0          19\n"
     ]
    }
   ],
   "source": [
    "# update df_stats with abundance of classes\n",
    "df_stats = aa.getNumberOfClassesInDFs(df_stats, all_df, json_files)\n",
    "\n",
    "with pd.option_context('display.max_rows', None, 'display.max_columns', None):\n",
    "    print(df_stats)"
   ]
  },
  {
   "cell_type": "markdown",
   "metadata": {},
   "source": [
    "#### Stats of dataframe df_stats"
   ]
  },
  {
   "cell_type": "code",
   "execution_count": null,
   "metadata": {},
   "outputs": [],
   "source": [
    "#df.describe()\n",
    "df_stats.describe()"
   ]
  },
  {
   "cell_type": "markdown",
   "metadata": {},
   "source": [
    "#### Split positions + Average pos column + length column + polarization"
   ]
  },
  {
   "cell_type": "code",
   "execution_count": 12,
   "metadata": {},
   "outputs": [
    {
     "name": "stdout",
     "output_type": "stream",
     "text": [
      "  class    xhead   xtail   yhead   ytail     x_av     y_av         len  \\\n",
      "0  fish   465.30  166.38  314.43  265.08  315.840  289.755  302.966316   \n",
      "1  fish   813.57  547.08  197.40  253.80  680.325  225.600  272.392878   \n",
      "2  fish   902.40  638.73  372.24  438.51  770.565  405.375  271.870524   \n",
      "3  fish  1096.98  902.40   84.60    7.05  999.690   45.825  209.464505   \n",
      "4  fish   710.64  511.83  558.36  520.29  611.235  539.325  202.422185   \n",
      "\n",
      "    pol_rad  \n",
      "0  0.163618  \n",
      "1 -0.208563  \n",
      "2 -0.246237  \n",
      "3  0.379256  \n",
      "4  0.189199  \n"
     ]
    }
   ],
   "source": [
    "df_allsplit = aa.splitPos(df_stats, all_df, json_files)\n",
    "\n",
    "print(df_allsplit[0].head(5))"
   ]
  },
  {
   "cell_type": "markdown",
   "metadata": {},
   "source": [
    "### Plot positions"
   ]
  },
  {
   "cell_type": "code",
   "execution_count": null,
   "metadata": {
    "scrolled": true
   },
   "outputs": [],
   "source": [
    "#test one image\n",
    "index=4\n",
    "#print(json_files)\n",
    "\n",
    "imgpath, number = pa.get_imgpath_for_json(json_files[index])\n",
    "pa.plot_pos_cat_img(df_allsplit[index],imgpath, number, show=True, save=True)\n",
    "pa.plot_pos_ori_cat(df_allsplit[index],imgpath, number, show=True, save=True)\n",
    "pa.plot_pos_ori_cat_img(df_allsplit[index],imgpath, number, show=True, save=True)"
   ]
  },
  {
   "cell_type": "code",
   "execution_count": null,
   "metadata": {
    "scrolled": true
   },
   "outputs": [],
   "source": [
    "# Plot positions of all read files\n",
    "pa.plot(df_allsplit, json_files, SHOW=False, SAVE=True)\n",
    "\n",
    "print(f\"{time.strftime('%d/%m/%Y, %H:%M:%S', time.localtime())}\")"
   ]
  },
  {
   "cell_type": "markdown",
   "metadata": {},
   "source": [
    "### Calculate distance matrix and find neighbors\n",
    "* finds neighbors using a distance matrix and filtering out neighbours over two times average length and four times average length"
   ]
  },
  {
   "cell_type": "code",
   "execution_count": null,
   "metadata": {
    "scrolled": true
   },
   "outputs": [],
   "source": [
    "# test for one dataset\n",
    "index = 4\n",
    "imgpath, number = aa.get_imgpath_for_json(json_files[index])\n",
    "\n",
    "aa.calc_neighbors(df_allsplit[index], number)\n",
    "df_allsplit[index].head(2)"
   ]
  },
  {
   "cell_type": "code",
   "execution_count": 37,
   "metadata": {
    "scrolled": true
   },
   "outputs": [
    {
     "data": {
      "application/vnd.jupyter.widget-view+json": {
       "model_id": "c418a3f39b1443358fdd7a1d44f0a7ef",
       "version_major": 2,
       "version_minor": 0
      },
      "text/plain": [
       "HBox(children=(IntProgress(value=0, max=37), HTML(value='')))"
      ]
     },
     "metadata": {},
     "output_type": "display_data"
    },
    {
     "name": "stdout",
     "output_type": "stream",
     "text": [
      "5529:   Distance1 (av2): 469.03455 , Distance2 (av4): 938.06910 \n",
      "5587:   Distance1 (av2): 376.00551 , Distance2 (av4): 752.01103 \n",
      "5590:   Distance1 (av2): 400.39872 , Distance2 (av4): 800.79743 \n",
      "5616:   Distance1 (av2): 275.37590 , Distance2 (av4): 550.75180 \n",
      "5643:   Distance1 (av2): 259.67581 , Distance2 (av4): 519.35163 \n",
      "5666:   Distance1 (av2): 409.56417 , Distance2 (av4): 819.12833 \n",
      "5673:   Distance1 (av2): 497.67712 , Distance2 (av4): 995.35425 \n",
      "5681:   Distance1 (av2): 430.66944 , Distance2 (av4): 861.33888 \n",
      "5688:   Distance1 (av2): 473.61567 , Distance2 (av4): 947.23133 \n",
      "5693:   Distance1 (av2): 425.80586 , Distance2 (av4): 851.61172 \n",
      "5699:   Distance1 (av2): 421.57155 , Distance2 (av4): 843.14309 \n",
      "5701:   Distance1 (av2): 427.88958 , Distance2 (av4): 855.77916 \n",
      "5712:   Distance1 (av2): 419.00172 , Distance2 (av4): 838.00343 \n",
      "5718:   Distance1 (av2): 388.25205 , Distance2 (av4): 776.50411 \n",
      "5721:   Distance1 (av2): 431.39630 , Distance2 (av4): 862.79260 \n",
      "5728:   Distance1 (av2): 449.53169 , Distance2 (av4): 899.06337 \n",
      "5732:   Distance1 (av2): 386.94899 , Distance2 (av4): 773.89798 \n",
      "5738:   Distance1 (av2): 451.80782 , Distance2 (av4): 903.61563 \n",
      "5748:   Distance1 (av2): 407.86449 , Distance2 (av4): 815.72898 \n",
      "5753:   Distance1 (av2): 408.45083 , Distance2 (av4): 816.90167 \n",
      "5766:   Distance1 (av2): 379.95717 , Distance2 (av4): 759.91434 \n",
      "5777:   Distance1 (av2): 363.98418 , Distance2 (av4): 727.96836 \n",
      "5791:   Distance1 (av2): 325.21968 , Distance2 (av4): 650.43935 \n",
      "5792:   Distance1 (av2): 307.77576 , Distance2 (av4): 615.55151 \n",
      "5793:   Distance1 (av2): 560.55883 , Distance2 (av4): 1121.11765 \n",
      "5795:   Distance1 (av2): 577.30828 , Distance2 (av4): 1154.61656 \n",
      "5806:   Distance1 (av2): 567.52604 , Distance2 (av4): 1135.05209 \n",
      "5810:   Distance1 (av2): 549.78077 , Distance2 (av4): 1099.56153 \n",
      "5811:   Distance1 (av2): 498.47967 , Distance2 (av4): 996.95933 \n",
      "5823:   Distance1 (av2): 589.55277 , Distance2 (av4): 1179.10555 \n",
      "5825:   Distance1 (av2): 307.77576 , Distance2 (av4): 615.55151 \n",
      "5826:   Distance1 (av2): 527.02178 , Distance2 (av4): 1054.04357 \n",
      "5830:   Distance1 (av2): 472.59466 , Distance2 (av4): 945.18932 \n",
      "5832:   Distance1 (av2): 307.77576 , Distance2 (av4): 615.55151 \n",
      "5834:   Distance1 (av2): 708.87723 , Distance2 (av4): 1417.75447 \n",
      "5837:   Distance1 (av2): 714.18541 , Distance2 (av4): 1428.37082 \n",
      "5843:   Distance1 (av2): 800.99861 , Distance2 (av4): 1601.99723 \n",
      "\n"
     ]
    },
    {
     "data": {
      "text/html": [
       "<div>\n",
       "<style scoped>\n",
       "    .dataframe tbody tr th:only-of-type {\n",
       "        vertical-align: middle;\n",
       "    }\n",
       "\n",
       "    .dataframe tbody tr th {\n",
       "        vertical-align: top;\n",
       "    }\n",
       "\n",
       "    .dataframe thead th {\n",
       "        text-align: right;\n",
       "    }\n",
       "</style>\n",
       "<table border=\"1\" class=\"dataframe\">\n",
       "  <thead>\n",
       "    <tr style=\"text-align: right;\">\n",
       "      <th></th>\n",
       "      <th>class</th>\n",
       "      <th>xhead</th>\n",
       "      <th>xtail</th>\n",
       "      <th>yhead</th>\n",
       "      <th>ytail</th>\n",
       "      <th>x_av</th>\n",
       "      <th>y_av</th>\n",
       "      <th>len</th>\n",
       "      <th>pol_rad</th>\n",
       "      <th>nb_av2</th>\n",
       "      <th>nb_av4</th>\n",
       "    </tr>\n",
       "  </thead>\n",
       "  <tbody>\n",
       "    <tr>\n",
       "      <th>0</th>\n",
       "      <td>fish</td>\n",
       "      <td>894.711757</td>\n",
       "      <td>892.919945</td>\n",
       "      <td>701.793268</td>\n",
       "      <td>838.568296</td>\n",
       "      <td>893.815851</td>\n",
       "      <td>770.180782</td>\n",
       "      <td>136.786765</td>\n",
       "      <td>-1.557697</td>\n",
       "      <td>[1, 41, 42, 45, 46, 47]</td>\n",
       "      <td>[1, 2, 3, 5, 6, 7, 8, 9, 10, 11, 21, 39, 40, 41, 42, 45, 46, 47, 48, 49, 54, 55, 56]</td>\n",
       "    </tr>\n",
       "    <tr>\n",
       "      <th>1</th>\n",
       "      <td>fish</td>\n",
       "      <td>742.407686</td>\n",
       "      <td>820.650170</td>\n",
       "      <td>738.824061</td>\n",
       "      <td>649.830702</td>\n",
       "      <td>781.528928</td>\n",
       "      <td>694.327382</td>\n",
       "      <td>118.497697</td>\n",
       "      <td>2.291997</td>\n",
       "      <td>[0, 2, 5, 6, 45]</td>\n",
       "      <td>[0, 2, 3, 5, 6, 7, 8, 9, 10, 11, 12, 40, 41, 42, 45, 46, 47, 54, 55, 56]</td>\n",
       "    </tr>\n",
       "  </tbody>\n",
       "</table>\n",
       "</div>"
      ],
      "text/plain": [
       "  class       xhead       xtail       yhead       ytail        x_av  \\\n",
       "0  fish  894.711757  892.919945  701.793268  838.568296  893.815851   \n",
       "1  fish  742.407686  820.650170  738.824061  649.830702  781.528928   \n",
       "\n",
       "         y_av         len   pol_rad                   nb_av2  \\\n",
       "0  770.180782  136.786765 -1.557697  [1, 41, 42, 45, 46, 47]   \n",
       "1  694.327382  118.497697  2.291997         [0, 2, 5, 6, 45]   \n",
       "\n",
       "                                                                                 nb_av4  \n",
       "0  [1, 2, 3, 5, 6, 7, 8, 9, 10, 11, 21, 39, 40, 41, 42, 45, 46, 47, 48, 49, 54, 55, 56]  \n",
       "1              [0, 2, 3, 5, 6, 7, 8, 9, 10, 11, 12, 40, 41, 42, 45, 46, 47, 54, 55, 56]  "
      ]
     },
     "execution_count": 37,
     "metadata": {},
     "output_type": "execute_result"
    }
   ],
   "source": [
    "#calculate neighbors for all datasets\n",
    "df_allsplit = aa.calc_all_neighbors(df_allsplit, json_files)\n",
    "#show sample\n",
    "df_allsplit[4].head(2)"
   ]
  },
  {
   "cell_type": "markdown",
   "metadata": {},
   "source": [
    "### Add number of class neighbors column\n",
    "* adds columns for each fish containing the number of neighbors of each class (for distance d2/av2 and d4/av4)"
   ]
  },
  {
   "cell_type": "code",
   "execution_count": null,
   "metadata": {
    "scrolled": true
   },
   "outputs": [],
   "source": [
    "# test for one dataset\n",
    "index = 4\n",
    "\n",
    "aa.calc_class_neighbors(df_allsplit[index])\n",
    "df_allsplit[index].head(1)"
   ]
  },
  {
   "cell_type": "markdown",
   "metadata": {},
   "source": [
    "* #### for all"
   ]
  },
  {
   "cell_type": "code",
   "execution_count": 38,
   "metadata": {},
   "outputs": [
    {
     "data": {
      "application/vnd.jupyter.widget-view+json": {
       "model_id": "38e72f42647940238b118ceb4d35aa39",
       "version_major": 2,
       "version_minor": 0
      },
      "text/plain": [
       "HBox(children=(IntProgress(value=0, max=37), HTML(value='')))"
      ]
     },
     "metadata": {},
     "output_type": "display_data"
    },
    {
     "name": "stdout",
     "output_type": "stream",
     "text": [
      "\n"
     ]
    },
    {
     "data": {
      "text/html": [
       "<div>\n",
       "<style scoped>\n",
       "    .dataframe tbody tr th:only-of-type {\n",
       "        vertical-align: middle;\n",
       "    }\n",
       "\n",
       "    .dataframe tbody tr th {\n",
       "        vertical-align: top;\n",
       "    }\n",
       "\n",
       "    .dataframe thead th {\n",
       "        text-align: right;\n",
       "    }\n",
       "</style>\n",
       "<table border=\"1\" class=\"dataframe\">\n",
       "  <thead>\n",
       "    <tr style=\"text-align: right;\">\n",
       "      <th></th>\n",
       "      <th>class</th>\n",
       "      <th>xhead</th>\n",
       "      <th>xtail</th>\n",
       "      <th>yhead</th>\n",
       "      <th>ytail</th>\n",
       "      <th>x_av</th>\n",
       "      <th>y_av</th>\n",
       "      <th>len</th>\n",
       "      <th>pol_rad</th>\n",
       "      <th>nb_av2</th>\n",
       "      <th>nb_av4</th>\n",
       "      <th>#neighbors_av2_f</th>\n",
       "      <th>#neighbors_av2_f2</th>\n",
       "      <th>#neighbors_av2_f3</th>\n",
       "      <th>#neighbors_av4_f</th>\n",
       "      <th>#neighbors_av4_f2</th>\n",
       "      <th>#neighbors_av4_f3</th>\n",
       "    </tr>\n",
       "  </thead>\n",
       "  <tbody>\n",
       "    <tr>\n",
       "      <th>0</th>\n",
       "      <td>fish_2</td>\n",
       "      <td>3500.0</td>\n",
       "      <td>3536.0</td>\n",
       "      <td>347.0</td>\n",
       "      <td>546.0</td>\n",
       "      <td>3518.0</td>\n",
       "      <td>446.5</td>\n",
       "      <td>202.230067</td>\n",
       "      <td>-1.749765</td>\n",
       "      <td>[]</td>\n",
       "      <td>[3]</td>\n",
       "      <td>0</td>\n",
       "      <td>0</td>\n",
       "      <td>0</td>\n",
       "      <td>1</td>\n",
       "      <td>0</td>\n",
       "      <td>0</td>\n",
       "    </tr>\n",
       "    <tr>\n",
       "      <th>1</th>\n",
       "      <td>fish_2</td>\n",
       "      <td>2468.0</td>\n",
       "      <td>2482.0</td>\n",
       "      <td>441.0</td>\n",
       "      <td>603.0</td>\n",
       "      <td>2475.0</td>\n",
       "      <td>522.0</td>\n",
       "      <td>162.603813</td>\n",
       "      <td>-1.657002</td>\n",
       "      <td>[2]</td>\n",
       "      <td>[2, 3, 15, 16]</td>\n",
       "      <td>0</td>\n",
       "      <td>1</td>\n",
       "      <td>0</td>\n",
       "      <td>1</td>\n",
       "      <td>3</td>\n",
       "      <td>0</td>\n",
       "    </tr>\n",
       "  </tbody>\n",
       "</table>\n",
       "</div>"
      ],
      "text/plain": [
       "    class   xhead   xtail  yhead  ytail    x_av   y_av         len   pol_rad  \\\n",
       "0  fish_2  3500.0  3536.0  347.0  546.0  3518.0  446.5  202.230067 -1.749765   \n",
       "1  fish_2  2468.0  2482.0  441.0  603.0  2475.0  522.0  162.603813 -1.657002   \n",
       "\n",
       "  nb_av2          nb_av4  #neighbors_av2_f  #neighbors_av2_f2  \\\n",
       "0     []             [3]                 0                  0   \n",
       "1    [2]  [2, 3, 15, 16]                 0                  1   \n",
       "\n",
       "   #neighbors_av2_f3  #neighbors_av4_f  #neighbors_av4_f2  #neighbors_av4_f3  \n",
       "0                  0                 1                  0                  0  \n",
       "1                  0                 1                  3                  0  "
      ]
     },
     "execution_count": 38,
     "metadata": {},
     "output_type": "execute_result"
    }
   ],
   "source": [
    "# calc class neighbors for all datasets\n",
    "df_allsplit = aa.all_calc_class_neighbours(df_allsplit)\n",
    "# check sample\n",
    "df_allsplit[2].head(2)"
   ]
  },
  {
   "cell_type": "markdown",
   "metadata": {},
   "source": [
    "### Add average length and polarization to stats"
   ]
  },
  {
   "cell_type": "code",
   "execution_count": 42,
   "metadata": {},
   "outputs": [
    {
     "data": {
      "application/vnd.jupyter.widget-view+json": {
       "model_id": "3c1e7a951a6a429f9689d7d97d119b4d",
       "version_major": 2,
       "version_minor": 0
      },
      "text/plain": [
       "HBox(children=(IntProgress(value=0, max=37), HTML(value='')))"
      ]
     },
     "metadata": {},
     "output_type": "display_data"
    },
    {
     "name": "stdout",
     "output_type": "stream",
     "text": [
      "\n"
     ]
    },
    {
     "data": {
      "text/html": [
       "<div>\n",
       "<style scoped>\n",
       "    .dataframe tbody tr th:only-of-type {\n",
       "        vertical-align: middle;\n",
       "    }\n",
       "\n",
       "    .dataframe tbody tr th {\n",
       "        vertical-align: top;\n",
       "    }\n",
       "\n",
       "    .dataframe thead th {\n",
       "        text-align: right;\n",
       "    }\n",
       "</style>\n",
       "<table border=\"1\" class=\"dataframe\">\n",
       "  <thead>\n",
       "    <tr style=\"text-align: right;\">\n",
       "      <th></th>\n",
       "      <th>#fish</th>\n",
       "      <th>#fish2</th>\n",
       "      <th>#fish3</th>\n",
       "      <th>#allfishes</th>\n",
       "      <th>avg_len</th>\n",
       "      <th>avg_pol</th>\n",
       "    </tr>\n",
       "  </thead>\n",
       "  <tbody>\n",
       "    <tr>\n",
       "      <th>IMG_5529_annotations_al.json</th>\n",
       "      <td>136</td>\n",
       "      <td>0</td>\n",
       "      <td>0</td>\n",
       "      <td>136</td>\n",
       "      <td>234.517274</td>\n",
       "      <td>-0.041841</td>\n",
       "    </tr>\n",
       "    <tr>\n",
       "      <th>IMG_5587_annotations_al.json</th>\n",
       "      <td>9</td>\n",
       "      <td>6</td>\n",
       "      <td>0</td>\n",
       "      <td>15</td>\n",
       "      <td>188.002757</td>\n",
       "      <td>-1.848003</td>\n",
       "    </tr>\n",
       "    <tr>\n",
       "      <th>IMG_5590_annotations_al.json</th>\n",
       "      <td>13</td>\n",
       "      <td>9</td>\n",
       "      <td>0</td>\n",
       "      <td>22</td>\n",
       "      <td>200.199358</td>\n",
       "      <td>-1.641929</td>\n",
       "    </tr>\n",
       "    <tr>\n",
       "      <th>IMG_5616_annotations_al_jl.json</th>\n",
       "      <td>141</td>\n",
       "      <td>15</td>\n",
       "      <td>1</td>\n",
       "      <td>157</td>\n",
       "      <td>137.687951</td>\n",
       "      <td>-2.017888</td>\n",
       "    </tr>\n",
       "    <tr>\n",
       "      <th>IMG_5643_annotations_al_jl.json</th>\n",
       "      <td>157</td>\n",
       "      <td>19</td>\n",
       "      <td>3</td>\n",
       "      <td>179</td>\n",
       "      <td>129.837906</td>\n",
       "      <td>-0.520685</td>\n",
       "    </tr>\n",
       "    <tr>\n",
       "      <th>IMG_5666_annotations_al_jl.json</th>\n",
       "      <td>166</td>\n",
       "      <td>0</td>\n",
       "      <td>0</td>\n",
       "      <td>166</td>\n",
       "      <td>204.782083</td>\n",
       "      <td>0.357343</td>\n",
       "    </tr>\n",
       "  </tbody>\n",
       "</table>\n",
       "</div>"
      ],
      "text/plain": [
       "                                 #fish  #fish2  #fish3  #allfishes  \\\n",
       "IMG_5529_annotations_al.json       136       0       0         136   \n",
       "IMG_5587_annotations_al.json         9       6       0          15   \n",
       "IMG_5590_annotations_al.json        13       9       0          22   \n",
       "IMG_5616_annotations_al_jl.json    141      15       1         157   \n",
       "IMG_5643_annotations_al_jl.json    157      19       3         179   \n",
       "IMG_5666_annotations_al_jl.json    166       0       0         166   \n",
       "\n",
       "                                    avg_len   avg_pol  \n",
       "IMG_5529_annotations_al.json     234.517274 -0.041841  \n",
       "IMG_5587_annotations_al.json     188.002757 -1.848003  \n",
       "IMG_5590_annotations_al.json     200.199358 -1.641929  \n",
       "IMG_5616_annotations_al_jl.json  137.687951 -2.017888  \n",
       "IMG_5643_annotations_al_jl.json  129.837906 -0.520685  \n",
       "IMG_5666_annotations_al_jl.json  204.782083  0.357343  "
      ]
     },
     "execution_count": 42,
     "metadata": {},
     "output_type": "execute_result"
    }
   ],
   "source": [
    "all_avg_len = []\n",
    "all_avg_pol = []\n",
    "for idf, df_split in enumerate(tqdm_notebook(df_allsplit)):\n",
    "    all_avg_len.append(df_split['len'].mean())\n",
    "    \n",
    "    msin = np.mean(np.sin(df_split['pol_rad']))\n",
    "    mcos = np.mean(np.cos(df_split['pol_rad']))\n",
    "    avg_pol = np.arctan2(msin,mcos)\n",
    "    all_avg_pol.append(avg_pol)\n",
    "assert(len(all_avg_len) == df_stats.shape[0])\n",
    "df_stats[\"avg_len\"] = all_avg_len\n",
    "df_stats[\"avg_pol\"] = all_avg_pol\n",
    "\n",
    "df_stats.head(6)"
   ]
  },
  {
   "cell_type": "markdown",
   "metadata": {},
   "source": [
    "### Add same class neighbors percentage and average number of neighbors (per class and total) to stats "
   ]
  },
  {
   "cell_type": "code",
   "execution_count": null,
   "metadata": {},
   "outputs": [],
   "source": [
    "df_stats = aa.calc_same_class_nb_p_and_avg_number_nb(df_allsplit, df_stats)\n",
    "df_stats.head(5)"
   ]
  },
  {
   "cell_type": "markdown",
   "metadata": {},
   "source": [
    "#### Add author to stats"
   ]
  },
  {
   "cell_type": "code",
   "execution_count": null,
   "metadata": {},
   "outputs": [],
   "source": []
  },
  {
   "cell_type": "markdown",
   "metadata": {},
   "source": [
    "#### Export to csv"
   ]
  },
  {
   "cell_type": "code",
   "execution_count": null,
   "metadata": {},
   "outputs": [],
   "source": [
    "for i, df_split in enumerate(df_allsplit):\n",
    "    number = data_numbers[i]\n",
    "    df_split.to_csv('./output/stats/' + str(number) + '.csv')\n",
    "\n",
    "df_stats.to_csv('./output/summary.csv')"
   ]
  },
  {
   "cell_type": "markdown",
   "metadata": {},
   "source": [
    "## TODO"
   ]
  },
  {
   "cell_type": "markdown",
   "metadata": {},
   "source": [
    "* rename columns\n",
    "* refactor much\n",
    "* convert .ipynb to .py\n",
    "* create exe file from python script"
   ]
  },
  {
   "cell_type": "code",
   "execution_count": 36,
   "metadata": {},
   "outputs": [
    {
     "name": "stdout",
     "output_type": "stream",
     "text": [
      "[  9.37462085 -11.94977966 -14.10834086  21.72976816  10.84030419]\n"
     ]
    },
    {
     "data": {
      "text/plain": [
       "3.1935405658203235"
      ]
     },
     "execution_count": 36,
     "metadata": {},
     "output_type": "execute_result"
    }
   ],
   "source": [
    "angles = [0.163618, -0.208563, -0.246237, 0.379256, 0.189199]\n",
    "angles_deg = np.degrees(angles)\n",
    "\n",
    "print(angles_deg)\n",
    "\n",
    "msin = np.mean(np.sin(angles))\n",
    "mcos = np.mean(np.cos(angles))\n",
    "np.degrees(np.arctan2(msin,mcos))\n",
    "\n",
    "\n"
   ]
  }
 ],
 "metadata": {
  "kernelspec": {
   "display_name": "Python 3",
   "language": "python",
   "name": "python3"
  },
  "language_info": {
   "codemirror_mode": {
    "name": "ipython",
    "version": 3
   },
   "file_extension": ".py",
   "mimetype": "text/x-python",
   "name": "python",
   "nbconvert_exporter": "python",
   "pygments_lexer": "ipython3",
   "version": "3.7.1"
  }
 },
 "nbformat": 4,
 "nbformat_minor": 4
}
