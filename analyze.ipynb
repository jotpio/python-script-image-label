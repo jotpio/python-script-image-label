{
 "cells": [
  {
   "cell_type": "code",
   "execution_count": 1,
   "metadata": {},
   "outputs": [],
   "source": [
    "import os \n",
    "import json\n",
    "import time\n",
    "import numpy as np\n",
    "import pandas as pd\n",
    "from scipy.spatial import distance_matrix\n",
    "from sklearn import preprocessing\n",
    "import matplotlib.pyplot as plt\n",
    "import seaborn as sns\n",
    "import matplotlib.cbook as cbook\n",
    "#from scipy.misc import imread\n",
    "from matplotlib.pyplot import imread\n",
    "\n",
    "from importlib import reload\n",
    "%load_ext autoreload\n",
    "%autoreload 2\n",
    "import AnalyzeAnnotations as aa\n",
    "import PlotAnnotations as pa\n",
    "\n",
    "from tqdm import tqdm_notebook\n",
    "\n",
    "pd.options.display.max_colwidth = 400\n",
    "sns.set()"
   ]
  },
  {
   "cell_type": "markdown",
   "metadata": {},
   "source": [
    "### <span style=\"color:red\"> Load sloth jsons </span> into array of pandas dataframes"
   ]
  },
  {
   "cell_type": "code",
   "execution_count": 2,
   "metadata": {},
   "outputs": [
    {
     "name": "stdout",
     "output_type": "stream",
     "text": [
      "12/03/2020, 13:06:23:      Path to be loaded: ./data/testdata/\n",
      "Number of json files loaded: 37\n"
     ]
    }
   ],
   "source": [
    "# load all json files from datapath into array of pandas dataframes\n",
    "path = './data/20191031_MIxedSpecies_Photos_final_annotations/'\n",
    "path = './data/testdata/'\n",
    "\n",
    "df_stats, all_df, json_files = aa.loadAllJSONSFromPath(path)\n",
    "print(f\"{time.strftime('%d/%m/%Y, %H:%M:%S', time.localtime())}:      Path to be loaded: {path}\")\n",
    "print('Number of json files loaded: ' + str(len(all_df)))"
   ]
  },
  {
   "cell_type": "markdown",
   "metadata": {},
   "source": [
    "#### Calculate abundance of classes + split positions + average pos column + length column + direction (rad)"
   ]
  },
  {
   "cell_type": "code",
   "execution_count": 14,
   "metadata": {
    "scrolled": true
   },
   "outputs": [
    {
     "name": "stdout",
     "output_type": "stream",
     "text": [
      "                                 #fish  #fish2  #fish3  #allfishes  \\\n",
      "IMG_5529_annotations_al.json       136       0       0         136   \n",
      "IMG_5587_annotations_al.json         9       6       0          15   \n",
      "IMG_5590_annotations_al.json        13       9       0          22   \n",
      "IMG_5616_annotations_al_jl.json    141      15       1         157   \n",
      "IMG_5643_annotations_al_jl.json    157      19       3         179   \n",
      "IMG_5666_annotations_al_jl.json    166       0       0         166   \n",
      "IMG_5673_annotations_al_jl.json    137       0       0         137   \n",
      "IMG_5681_annotations_al_jl.json    261       0       0         261   \n",
      "IMG_5688_annotations_al_jl.json     67       0       1          68   \n",
      "IMG_5693_annotations_al_jl.json     78       0       0          78   \n",
      "IMG_5699_annotations_al_jl.json     42       1       0          43   \n",
      "IMG_5701_annotations_al_jl.json    150       1       0         151   \n",
      "IMG_5712_annotations_al_jl.json    169       0       0         169   \n",
      "IMG_5718_annotations_al_jl.json    272       0       1         273   \n",
      "IMG_5721_annotations_al.json        23       2       0          25   \n",
      "IMG_5728_annotations_al.json       184       0       3         187   \n",
      "IMG_5732_annotations_al_jl.json     99       2       0         101   \n",
      "IMG_5738_annotations_al.json       122       0       0         122   \n",
      "IMG_5748_annotations_al_jl.json    130       0       2         132   \n",
      "IMG_5753_annotations_al.json       141       0       1         142   \n",
      "IMG_5766_annotations_al_jl.json    197       0       1         198   \n",
      "IMG_5777_annotations_al_jl.json      0      22       0          22   \n",
      "IMG_5791_annotations_al.json         6      36       0          42   \n",
      "IMG_5792_annotated_jl.json          17      44       0          61   \n",
      "IMG_5793_annotations_al.json         3      18       0          21   \n",
      "IMG_5795_annotations_al.json         6      12       0          18   \n",
      "IMG_5806_annotations_al_jl.json      4      12       0          16   \n",
      "IMG_5810_annotations_al_jl.json      0      17       0          17   \n",
      "IMG_5811_annotations_al.json        23       4       0          27   \n",
      "IMG_5823_annotations_al_jl.json      0      29       0          29   \n",
      "IMG_5825_annotated_jl.json          17      44       0          61   \n",
      "IMG_5826_annotations_al_jl.json     93       0       1          94   \n",
      "IMG_5830_annotations_al_jl.json     39       4       0          43   \n",
      "IMG_5832_annotated_jl.json          17      44       0          61   \n",
      "IMG_5834_annotations_al_jl.json      0      15       0          15   \n",
      "IMG_5837_annotations_al.json         6       6       0          12   \n",
      "IMG_5843_annotations_al_jl.json      8      11       0          19   \n",
      "\n",
      "                                    avg_len  avg_dir_rad       pol  pol_error  \n",
      "IMG_5529_annotations_al.json     234.517274    -0.041841  0.916577   0.085749  \n",
      "IMG_5587_annotations_al.json     188.002757    -1.848003  0.885315   0.258199  \n",
      "IMG_5590_annotations_al.json     200.199358    -1.641929  0.953218   0.213201  \n",
      "IMG_5616_annotations_al_jl.json  137.687951    -2.017888  0.589120   0.079809  \n",
      "IMG_5643_annotations_al_jl.json  129.837906    -0.520685  0.193511   0.074744  \n",
      "IMG_5666_annotations_al_jl.json  204.782083     0.357343  0.687822   0.077615  \n",
      "IMG_5673_annotations_al_jl.json  248.838562    -0.094375  0.846645   0.085436  \n",
      "IMG_5681_annotations_al_jl.json  215.334719    -0.210333  0.458402   0.061898  \n",
      "IMG_5688_annotations_al_jl.json  236.807834     0.706773  0.633657   0.121268  \n",
      "IMG_5693_annotations_al_jl.json  212.902931     0.582495  0.928335   0.113228  \n",
      "IMG_5699_annotations_al_jl.json  210.785774     0.075432  0.878602   0.152499  \n",
      "IMG_5701_annotations_al_jl.json  213.944790     0.193891  0.452719   0.081379  \n",
      "IMG_5712_annotations_al_jl.json  209.500858    -0.006914  0.731790   0.076923  \n",
      "IMG_5718_annotations_al_jl.json  194.126027    -0.080087  0.309470   0.060523  \n",
      "IMG_5721_annotations_al.json     215.698151     0.096394  0.981955   0.200000  \n",
      "IMG_5728_annotations_al.json     224.765844    -0.266899  0.532204   0.073127  \n",
      "IMG_5732_annotations_al_jl.json  193.474494     0.050296  0.530220   0.099504  \n",
      "IMG_5738_annotations_al.json     225.903908     0.368820  0.679664   0.090536  \n",
      "IMG_5748_annotations_al_jl.json  203.932245    -0.302983  0.928682   0.087039  \n",
      "IMG_5753_annotations_al.json     204.225417     0.289779  0.511428   0.083918  \n",
      "IMG_5766_annotations_al_jl.json  189.978586     0.253836  0.576179   0.071067  \n",
      "IMG_5777_annotations_al_jl.json  181.992090    -0.022650  0.233187   0.213201  \n",
      "IMG_5791_annotations_al.json     162.609838     0.542821  0.480363   0.154303  \n",
      "IMG_5792_annotated_jl.json       153.887878     0.148012  0.466021   0.128037  \n",
      "IMG_5793_annotations_al.json     280.279413     0.097602  0.363469   0.218218  \n",
      "IMG_5795_annotations_al.json     288.654141     0.226033  0.600112   0.235702  \n",
      "IMG_5806_annotations_al_jl.json  283.763022    -0.589703  0.640026   0.250000  \n",
      "IMG_5810_annotations_al_jl.json  274.890383     0.850684  0.394785   0.242536  \n",
      "IMG_5811_annotations_al.json     249.239833    -0.544237  0.548534   0.192450  \n",
      "IMG_5823_annotations_al_jl.json  294.776387    -1.170714  0.804334   0.185695  \n",
      "IMG_5825_annotated_jl.json       153.887878     0.148012  0.466021   0.128037  \n",
      "IMG_5826_annotations_al_jl.json  263.510892    -0.648097  0.226748   0.103142  \n",
      "IMG_5830_annotations_al_jl.json  236.297330     0.404973  0.521492   0.152499  \n",
      "IMG_5832_annotated_jl.json       153.887878     0.148012  0.466021   0.128037  \n",
      "IMG_5834_annotations_al_jl.json  354.438616    -2.712081  0.409871   0.258199  \n",
      "IMG_5837_annotations_al.json     357.092705     0.164843  0.580782   0.288675  \n",
      "IMG_5843_annotations_al_jl.json  400.499307    -1.302383  0.270403   0.229416  \n",
      "\n",
      "  class    xhead   xtail   yhead   ytail     x_av     y_av         len  \\\n",
      "0  fish   465.30  166.38  314.43  265.08  315.840  289.755  302.966316   \n",
      "1  fish   813.57  547.08  197.40  253.80  680.325  225.600  272.392878   \n",
      "2  fish   902.40  638.73  372.24  438.51  770.565  405.375  271.870524   \n",
      "3  fish  1096.98  902.40   84.60    7.05  999.690   45.825  209.464505   \n",
      "4  fish   710.64  511.83  558.36  520.29  611.235  539.325  202.422185   \n",
      "\n",
      "    dir_rad  \n",
      "0  0.163618  \n",
      "1 -0.208563  \n",
      "2 -0.246237  \n",
      "3  0.379256  \n",
      "4  0.189199  \n"
     ]
    }
   ],
   "source": [
    "# update df_stats with abundance of classes\n",
    "df_stats = aa.getNumberOfClassesInDFs(df_stats, all_df, json_files)\n",
    "# extract head and tail positions + calculate average of head and tail + calc length + calc polarization\n",
    "df_allsplit = aa.splitPos(df_stats, all_df, json_files)\n",
    "\n",
    "with pd.option_context('display.max_rows', None, 'display.max_columns', None):\n",
    "    print(df_stats)\n",
    "print(f\"\\n{df_allsplit[0].head(5)}\")"
   ]
  },
  {
   "cell_type": "markdown",
   "metadata": {},
   "source": [
    "#### Stats of dataframe df_stats"
   ]
  },
  {
   "cell_type": "code",
   "execution_count": 5,
   "metadata": {},
   "outputs": [
    {
     "data": {
      "text/html": [
       "<div>\n",
       "<style scoped>\n",
       "    .dataframe tbody tr th:only-of-type {\n",
       "        vertical-align: middle;\n",
       "    }\n",
       "\n",
       "    .dataframe tbody tr th {\n",
       "        vertical-align: top;\n",
       "    }\n",
       "\n",
       "    .dataframe thead th {\n",
       "        text-align: right;\n",
       "    }\n",
       "</style>\n",
       "<table border=\"1\" class=\"dataframe\">\n",
       "  <thead>\n",
       "    <tr style=\"text-align: right;\">\n",
       "      <th></th>\n",
       "      <th>#fish</th>\n",
       "      <th>#fish2</th>\n",
       "      <th>#fish3</th>\n",
       "      <th>#allfishes</th>\n",
       "    </tr>\n",
       "  </thead>\n",
       "  <tbody>\n",
       "    <tr>\n",
       "      <th>count</th>\n",
       "      <td>37.000000</td>\n",
       "      <td>37.000000</td>\n",
       "      <td>37.000000</td>\n",
       "      <td>37.000000</td>\n",
       "    </tr>\n",
       "    <tr>\n",
       "      <th>mean</th>\n",
       "      <td>79.270270</td>\n",
       "      <td>10.081081</td>\n",
       "      <td>0.378378</td>\n",
       "      <td>89.729730</td>\n",
       "    </tr>\n",
       "    <tr>\n",
       "      <th>std</th>\n",
       "      <td>79.761328</td>\n",
       "      <td>13.638952</td>\n",
       "      <td>0.794123</td>\n",
       "      <td>73.798392</td>\n",
       "    </tr>\n",
       "    <tr>\n",
       "      <th>min</th>\n",
       "      <td>0.000000</td>\n",
       "      <td>0.000000</td>\n",
       "      <td>0.000000</td>\n",
       "      <td>12.000000</td>\n",
       "    </tr>\n",
       "    <tr>\n",
       "      <th>25%</th>\n",
       "      <td>8.000000</td>\n",
       "      <td>0.000000</td>\n",
       "      <td>0.000000</td>\n",
       "      <td>22.000000</td>\n",
       "    </tr>\n",
       "    <tr>\n",
       "      <th>50%</th>\n",
       "      <td>42.000000</td>\n",
       "      <td>4.000000</td>\n",
       "      <td>0.000000</td>\n",
       "      <td>61.000000</td>\n",
       "    </tr>\n",
       "    <tr>\n",
       "      <th>75%</th>\n",
       "      <td>141.000000</td>\n",
       "      <td>15.000000</td>\n",
       "      <td>0.000000</td>\n",
       "      <td>142.000000</td>\n",
       "    </tr>\n",
       "    <tr>\n",
       "      <th>max</th>\n",
       "      <td>272.000000</td>\n",
       "      <td>44.000000</td>\n",
       "      <td>3.000000</td>\n",
       "      <td>273.000000</td>\n",
       "    </tr>\n",
       "  </tbody>\n",
       "</table>\n",
       "</div>"
      ],
      "text/plain": [
       "            #fish     #fish2     #fish3  #allfishes\n",
       "count   37.000000  37.000000  37.000000   37.000000\n",
       "mean    79.270270  10.081081   0.378378   89.729730\n",
       "std     79.761328  13.638952   0.794123   73.798392\n",
       "min      0.000000   0.000000   0.000000   12.000000\n",
       "25%      8.000000   0.000000   0.000000   22.000000\n",
       "50%     42.000000   4.000000   0.000000   61.000000\n",
       "75%    141.000000  15.000000   0.000000  142.000000\n",
       "max    272.000000  44.000000   3.000000  273.000000"
      ]
     },
     "execution_count": 5,
     "metadata": {},
     "output_type": "execute_result"
    }
   ],
   "source": [
    "#df.describe()\n",
    "df_stats.describe()"
   ]
  },
  {
   "cell_type": "markdown",
   "metadata": {},
   "source": [
    "#### Neighbours\n",
    "\n",
    "* Calculate distance matrix and find neighbors\n",
    " * finds neighbors using a distance matrix and filtering out neighbours over two times average length and four times average length\n",
    "* Add number of class neighbors column\n",
    " * adds columns for each fish containing the number of neighbors of each class (for distance d2/av2 and d4/av4)\n",
    "* Add same class neighbors percentage and average number of neighbors (per class and total) to stats "
   ]
  },
  {
   "cell_type": "code",
   "execution_count": 22,
   "metadata": {
    "scrolled": true
   },
   "outputs": [
    {
     "data": {
      "application/vnd.jupyter.widget-view+json": {
       "model_id": "8e70ed7561cd419b8f526becf21dce49",
       "version_major": 2,
       "version_minor": 0
      },
      "text/plain": [
       "HBox(children=(IntProgress(value=0, max=37), HTML(value='')))"
      ]
     },
     "metadata": {},
     "output_type": "display_data"
    },
    {
     "name": "stdout",
     "output_type": "stream",
     "text": [
      "5529:   Distance1 (av2): 469.03455 , Distance2 (av4): 938.06910 \n",
      "5587:   Distance1 (av2): 376.00551 , Distance2 (av4): 752.01103 \n",
      "5590:   Distance1 (av2): 400.39872 , Distance2 (av4): 800.79743 \n",
      "5616:   Distance1 (av2): 275.37590 , Distance2 (av4): 550.75180 \n",
      "5643:   Distance1 (av2): 259.67581 , Distance2 (av4): 519.35163 \n",
      "5666:   Distance1 (av2): 409.56417 , Distance2 (av4): 819.12833 \n",
      "5673:   Distance1 (av2): 497.67712 , Distance2 (av4): 995.35425 \n",
      "5681:   Distance1 (av2): 430.66944 , Distance2 (av4): 861.33888 \n",
      "5688:   Distance1 (av2): 473.61567 , Distance2 (av4): 947.23133 \n",
      "5693:   Distance1 (av2): 425.80586 , Distance2 (av4): 851.61172 \n",
      "5699:   Distance1 (av2): 421.57155 , Distance2 (av4): 843.14309 \n",
      "5701:   Distance1 (av2): 427.88958 , Distance2 (av4): 855.77916 \n",
      "5712:   Distance1 (av2): 419.00172 , Distance2 (av4): 838.00343 \n",
      "5718:   Distance1 (av2): 388.25205 , Distance2 (av4): 776.50411 \n",
      "5721:   Distance1 (av2): 431.39630 , Distance2 (av4): 862.79260 \n",
      "5728:   Distance1 (av2): 449.53169 , Distance2 (av4): 899.06337 \n",
      "5732:   Distance1 (av2): 386.94899 , Distance2 (av4): 773.89798 \n",
      "5738:   Distance1 (av2): 451.80782 , Distance2 (av4): 903.61563 \n",
      "5748:   Distance1 (av2): 407.86449 , Distance2 (av4): 815.72898 \n",
      "5753:   Distance1 (av2): 408.45083 , Distance2 (av4): 816.90167 \n",
      "5766:   Distance1 (av2): 379.95717 , Distance2 (av4): 759.91434 \n",
      "5777:   Distance1 (av2): 363.98418 , Distance2 (av4): 727.96836 \n",
      "5791:   Distance1 (av2): 325.21968 , Distance2 (av4): 650.43935 \n",
      "5792:   Distance1 (av2): 307.77576 , Distance2 (av4): 615.55151 \n",
      "5793:   Distance1 (av2): 560.55883 , Distance2 (av4): 1121.11765 \n",
      "5795:   Distance1 (av2): 577.30828 , Distance2 (av4): 1154.61656 \n",
      "5806:   Distance1 (av2): 567.52604 , Distance2 (av4): 1135.05209 \n",
      "5810:   Distance1 (av2): 549.78077 , Distance2 (av4): 1099.56153 \n",
      "5811:   Distance1 (av2): 498.47967 , Distance2 (av4): 996.95933 \n",
      "5823:   Distance1 (av2): 589.55277 , Distance2 (av4): 1179.10555 \n",
      "5825:   Distance1 (av2): 307.77576 , Distance2 (av4): 615.55151 \n",
      "5826:   Distance1 (av2): 527.02178 , Distance2 (av4): 1054.04357 \n",
      "5830:   Distance1 (av2): 472.59466 , Distance2 (av4): 945.18932 \n",
      "5832:   Distance1 (av2): 307.77576 , Distance2 (av4): 615.55151 \n",
      "5834:   Distance1 (av2): 708.87723 , Distance2 (av4): 1417.75447 \n",
      "5837:   Distance1 (av2): 714.18541 , Distance2 (av4): 1428.37082 \n",
      "5843:   Distance1 (av2): 800.99861 , Distance2 (av4): 1601.99723 \n",
      "\n"
     ]
    },
    {
     "data": {
      "application/vnd.jupyter.widget-view+json": {
       "model_id": "4b5e18fb621a43bf8f7c6fcd1d3a2d66",
       "version_major": 2,
       "version_minor": 0
      },
      "text/plain": [
       "HBox(children=(IntProgress(value=0, max=37), HTML(value='')))"
      ]
     },
     "metadata": {},
     "output_type": "display_data"
    },
    {
     "name": "stdout",
     "output_type": "stream",
     "text": [
      "\n",
      "  class       xhead       xtail       yhead       ytail        x_av  \\\n",
      "0  fish  894.711757  892.919945  701.793268  838.568296  893.815851   \n",
      "1  fish  742.407686  820.650170  738.824061  649.830702  781.528928   \n",
      "\n",
      "         y_av         len   dir_rad                   nb_av2  \\\n",
      "0  770.180782  136.786765 -1.557697  [1, 41, 42, 45, 46, 47]   \n",
      "1  694.327382  118.497697  2.291997         [0, 2, 5, 6, 45]   \n",
      "\n",
      "                                                                                 nb_av4  \\\n",
      "0  [1, 2, 3, 5, 6, 7, 8, 9, 10, 11, 21, 39, 40, 41, 42, 45, 46, 47, 48, 49, 54, 55, 56]   \n",
      "1              [0, 2, 3, 5, 6, 7, 8, 9, 10, 11, 12, 40, 41, 42, 45, 46, 47, 54, 55, 56]   \n",
      "\n",
      "   #neighbors_av2_f  #neighbors_av2_f2  #neighbors_av2_f3  #neighbors_av4_f  \\\n",
      "0                 6                  0                  0                22   \n",
      "1                 5                  0                  0                19   \n",
      "\n",
      "   #neighbors_av4_f2  #neighbors_av4_f3  \n",
      "0                  1                  0  \n",
      "1                  1                  0  \n"
     ]
    },
    {
     "data": {
      "text/html": [
       "<div>\n",
       "<style scoped>\n",
       "    .dataframe tbody tr th:only-of-type {\n",
       "        vertical-align: middle;\n",
       "    }\n",
       "\n",
       "    .dataframe tbody tr th {\n",
       "        vertical-align: top;\n",
       "    }\n",
       "\n",
       "    .dataframe thead th {\n",
       "        text-align: right;\n",
       "    }\n",
       "</style>\n",
       "<table border=\"1\" class=\"dataframe\">\n",
       "  <thead>\n",
       "    <tr style=\"text-align: right;\">\n",
       "      <th></th>\n",
       "      <th>#fish</th>\n",
       "      <th>#fish2</th>\n",
       "      <th>#fish3</th>\n",
       "      <th>#allfishes</th>\n",
       "      <th>avg_len</th>\n",
       "      <th>avg_dir_rad</th>\n",
       "      <th>pol</th>\n",
       "      <th>pol_error</th>\n",
       "      <th>p_av2_f_same</th>\n",
       "      <th>p_av2_f2_same</th>\n",
       "      <th>...</th>\n",
       "      <th>av2_avg_n_f</th>\n",
       "      <th>av2_avg_n_f2</th>\n",
       "      <th>av2_avg_n_f3</th>\n",
       "      <th>p_av4_f_same</th>\n",
       "      <th>p_av4_f2_same</th>\n",
       "      <th>p_av4_f3_same</th>\n",
       "      <th>av4_avg_n_total</th>\n",
       "      <th>av4_avg_n_f</th>\n",
       "      <th>av4_avg_n_f2</th>\n",
       "      <th>av4_avg_n_f3</th>\n",
       "    </tr>\n",
       "  </thead>\n",
       "  <tbody>\n",
       "    <tr>\n",
       "      <th>IMG_5529_annotations_al.json</th>\n",
       "      <td>136</td>\n",
       "      <td>0</td>\n",
       "      <td>0</td>\n",
       "      <td>136</td>\n",
       "      <td>234.517274</td>\n",
       "      <td>-0.041841</td>\n",
       "      <td>0.916577</td>\n",
       "      <td>0.085749</td>\n",
       "      <td>1.000000</td>\n",
       "      <td>0.000000</td>\n",
       "      <td>...</td>\n",
       "      <td>9.308824</td>\n",
       "      <td>0.000000</td>\n",
       "      <td>0.0</td>\n",
       "      <td>1.000000</td>\n",
       "      <td>0.000000</td>\n",
       "      <td>0.0</td>\n",
       "      <td>33.720588</td>\n",
       "      <td>33.720588</td>\n",
       "      <td>0.000000</td>\n",
       "      <td>0.0</td>\n",
       "    </tr>\n",
       "    <tr>\n",
       "      <th>IMG_5587_annotations_al.json</th>\n",
       "      <td>9</td>\n",
       "      <td>6</td>\n",
       "      <td>0</td>\n",
       "      <td>15</td>\n",
       "      <td>188.002757</td>\n",
       "      <td>-1.848003</td>\n",
       "      <td>0.885315</td>\n",
       "      <td>0.258199</td>\n",
       "      <td>0.777778</td>\n",
       "      <td>0.333333</td>\n",
       "      <td>...</td>\n",
       "      <td>1.555556</td>\n",
       "      <td>0.333333</td>\n",
       "      <td>0.0</td>\n",
       "      <td>0.881217</td>\n",
       "      <td>0.541667</td>\n",
       "      <td>0.0</td>\n",
       "      <td>4.266667</td>\n",
       "      <td>4.888889</td>\n",
       "      <td>1.666667</td>\n",
       "      <td>0.0</td>\n",
       "    </tr>\n",
       "    <tr>\n",
       "      <th>IMG_5590_annotations_al.json</th>\n",
       "      <td>13</td>\n",
       "      <td>9</td>\n",
       "      <td>0</td>\n",
       "      <td>22</td>\n",
       "      <td>200.199358</td>\n",
       "      <td>-1.641929</td>\n",
       "      <td>0.953218</td>\n",
       "      <td>0.213201</td>\n",
       "      <td>0.538462</td>\n",
       "      <td>0.444444</td>\n",
       "      <td>...</td>\n",
       "      <td>2.307692</td>\n",
       "      <td>0.444444</td>\n",
       "      <td>0.0</td>\n",
       "      <td>0.814957</td>\n",
       "      <td>0.601190</td>\n",
       "      <td>0.0</td>\n",
       "      <td>4.727273</td>\n",
       "      <td>4.615385</td>\n",
       "      <td>1.555556</td>\n",
       "      <td>0.0</td>\n",
       "    </tr>\n",
       "  </tbody>\n",
       "</table>\n",
       "<p>3 rows × 22 columns</p>\n",
       "</div>"
      ],
      "text/plain": [
       "                              #fish  #fish2  #fish3  #allfishes     avg_len  \\\n",
       "IMG_5529_annotations_al.json    136       0       0         136  234.517274   \n",
       "IMG_5587_annotations_al.json      9       6       0          15  188.002757   \n",
       "IMG_5590_annotations_al.json     13       9       0          22  200.199358   \n",
       "\n",
       "                              avg_dir_rad       pol  pol_error  p_av2_f_same  \\\n",
       "IMG_5529_annotations_al.json    -0.041841  0.916577   0.085749      1.000000   \n",
       "IMG_5587_annotations_al.json    -1.848003  0.885315   0.258199      0.777778   \n",
       "IMG_5590_annotations_al.json    -1.641929  0.953218   0.213201      0.538462   \n",
       "\n",
       "                              p_av2_f2_same  ...  av2_avg_n_f  av2_avg_n_f2  \\\n",
       "IMG_5529_annotations_al.json       0.000000  ...     9.308824      0.000000   \n",
       "IMG_5587_annotations_al.json       0.333333  ...     1.555556      0.333333   \n",
       "IMG_5590_annotations_al.json       0.444444  ...     2.307692      0.444444   \n",
       "\n",
       "                              av2_avg_n_f3  p_av4_f_same  p_av4_f2_same  \\\n",
       "IMG_5529_annotations_al.json           0.0      1.000000       0.000000   \n",
       "IMG_5587_annotations_al.json           0.0      0.881217       0.541667   \n",
       "IMG_5590_annotations_al.json           0.0      0.814957       0.601190   \n",
       "\n",
       "                              p_av4_f3_same  av4_avg_n_total  av4_avg_n_f  \\\n",
       "IMG_5529_annotations_al.json            0.0        33.720588    33.720588   \n",
       "IMG_5587_annotations_al.json            0.0         4.266667     4.888889   \n",
       "IMG_5590_annotations_al.json            0.0         4.727273     4.615385   \n",
       "\n",
       "                              av4_avg_n_f2  av4_avg_n_f3  \n",
       "IMG_5529_annotations_al.json      0.000000           0.0  \n",
       "IMG_5587_annotations_al.json      1.666667           0.0  \n",
       "IMG_5590_annotations_al.json      1.555556           0.0  \n",
       "\n",
       "[3 rows x 22 columns]"
      ]
     },
     "execution_count": 22,
     "metadata": {},
     "output_type": "execute_result"
    }
   ],
   "source": [
    "df_allsplit, df_stats = aa.neighbour_calculations(df_allsplit, df_stats, json_files)\n",
    "\n",
    "# check sample\n",
    "print(df_allsplit[4].head(2))\n",
    "df_stats.head(3)"
   ]
  },
  {
   "cell_type": "markdown",
   "metadata": {},
   "source": [
    "### Add average length, direction and polarization to stats"
   ]
  },
  {
   "cell_type": "code",
   "execution_count": 20,
   "metadata": {},
   "outputs": [
    {
     "data": {
      "application/vnd.jupyter.widget-view+json": {
       "model_id": "959d1a0c715d4c08bda68d2649e25e6e",
       "version_major": 2,
       "version_minor": 0
      },
      "text/plain": [
       "HBox(children=(IntProgress(value=0, max=37), HTML(value='')))"
      ]
     },
     "metadata": {},
     "output_type": "display_data"
    },
    {
     "name": "stdout",
     "output_type": "stream",
     "text": [
      "\n"
     ]
    },
    {
     "data": {
      "text/html": [
       "<div>\n",
       "<style scoped>\n",
       "    .dataframe tbody tr th:only-of-type {\n",
       "        vertical-align: middle;\n",
       "    }\n",
       "\n",
       "    .dataframe tbody tr th {\n",
       "        vertical-align: top;\n",
       "    }\n",
       "\n",
       "    .dataframe thead th {\n",
       "        text-align: right;\n",
       "    }\n",
       "</style>\n",
       "<table border=\"1\" class=\"dataframe\">\n",
       "  <thead>\n",
       "    <tr style=\"text-align: right;\">\n",
       "      <th></th>\n",
       "      <th>#fish</th>\n",
       "      <th>#fish2</th>\n",
       "      <th>#fish3</th>\n",
       "      <th>#allfishes</th>\n",
       "      <th>avg_len</th>\n",
       "      <th>avg_dir_rad</th>\n",
       "      <th>pol</th>\n",
       "      <th>pol_error</th>\n",
       "      <th>p_av2_f_same</th>\n",
       "      <th>p_av2_f2_same</th>\n",
       "      <th>...</th>\n",
       "      <th>av2_avg_n_f</th>\n",
       "      <th>av2_avg_n_f2</th>\n",
       "      <th>av2_avg_n_f3</th>\n",
       "      <th>p_av4_f_same</th>\n",
       "      <th>p_av4_f2_same</th>\n",
       "      <th>p_av4_f3_same</th>\n",
       "      <th>av4_avg_n_total</th>\n",
       "      <th>av4_avg_n_f</th>\n",
       "      <th>av4_avg_n_f2</th>\n",
       "      <th>av4_avg_n_f3</th>\n",
       "    </tr>\n",
       "  </thead>\n",
       "  <tbody>\n",
       "    <tr>\n",
       "      <th>IMG_5529_annotations_al.json</th>\n",
       "      <td>136</td>\n",
       "      <td>0</td>\n",
       "      <td>0</td>\n",
       "      <td>136</td>\n",
       "      <td>234.517274</td>\n",
       "      <td>-0.041841</td>\n",
       "      <td>0.916577</td>\n",
       "      <td>0.085749</td>\n",
       "      <td>1.000000</td>\n",
       "      <td>0.000000</td>\n",
       "      <td>...</td>\n",
       "      <td>9.308824</td>\n",
       "      <td>0.000000</td>\n",
       "      <td>0.0</td>\n",
       "      <td>1.000000</td>\n",
       "      <td>0.000000</td>\n",
       "      <td>0.0</td>\n",
       "      <td>33.720588</td>\n",
       "      <td>33.720588</td>\n",
       "      <td>0.000000</td>\n",
       "      <td>0.0</td>\n",
       "    </tr>\n",
       "    <tr>\n",
       "      <th>IMG_5587_annotations_al.json</th>\n",
       "      <td>9</td>\n",
       "      <td>6</td>\n",
       "      <td>0</td>\n",
       "      <td>15</td>\n",
       "      <td>188.002757</td>\n",
       "      <td>-1.848003</td>\n",
       "      <td>0.885315</td>\n",
       "      <td>0.258199</td>\n",
       "      <td>0.777778</td>\n",
       "      <td>0.333333</td>\n",
       "      <td>...</td>\n",
       "      <td>1.555556</td>\n",
       "      <td>0.333333</td>\n",
       "      <td>0.0</td>\n",
       "      <td>0.881217</td>\n",
       "      <td>0.541667</td>\n",
       "      <td>0.0</td>\n",
       "      <td>4.266667</td>\n",
       "      <td>4.888889</td>\n",
       "      <td>1.666667</td>\n",
       "      <td>0.0</td>\n",
       "    </tr>\n",
       "    <tr>\n",
       "      <th>IMG_5590_annotations_al.json</th>\n",
       "      <td>13</td>\n",
       "      <td>9</td>\n",
       "      <td>0</td>\n",
       "      <td>22</td>\n",
       "      <td>200.199358</td>\n",
       "      <td>-1.641929</td>\n",
       "      <td>0.953218</td>\n",
       "      <td>0.213201</td>\n",
       "      <td>0.538462</td>\n",
       "      <td>0.444444</td>\n",
       "      <td>...</td>\n",
       "      <td>2.307692</td>\n",
       "      <td>0.444444</td>\n",
       "      <td>0.0</td>\n",
       "      <td>0.814957</td>\n",
       "      <td>0.601190</td>\n",
       "      <td>0.0</td>\n",
       "      <td>4.727273</td>\n",
       "      <td>4.615385</td>\n",
       "      <td>1.555556</td>\n",
       "      <td>0.0</td>\n",
       "    </tr>\n",
       "  </tbody>\n",
       "</table>\n",
       "<p>3 rows × 22 columns</p>\n",
       "</div>"
      ],
      "text/plain": [
       "                              #fish  #fish2  #fish3  #allfishes     avg_len  \\\n",
       "IMG_5529_annotations_al.json    136       0       0         136  234.517274   \n",
       "IMG_5587_annotations_al.json      9       6       0          15  188.002757   \n",
       "IMG_5590_annotations_al.json     13       9       0          22  200.199358   \n",
       "\n",
       "                              avg_dir_rad       pol  pol_error  p_av2_f_same  \\\n",
       "IMG_5529_annotations_al.json    -0.041841  0.916577   0.085749      1.000000   \n",
       "IMG_5587_annotations_al.json    -1.848003  0.885315   0.258199      0.777778   \n",
       "IMG_5590_annotations_al.json    -1.641929  0.953218   0.213201      0.538462   \n",
       "\n",
       "                              p_av2_f2_same  ...  av2_avg_n_f  av2_avg_n_f2  \\\n",
       "IMG_5529_annotations_al.json       0.000000  ...     9.308824      0.000000   \n",
       "IMG_5587_annotations_al.json       0.333333  ...     1.555556      0.333333   \n",
       "IMG_5590_annotations_al.json       0.444444  ...     2.307692      0.444444   \n",
       "\n",
       "                              av2_avg_n_f3  p_av4_f_same  p_av4_f2_same  \\\n",
       "IMG_5529_annotations_al.json           0.0      1.000000       0.000000   \n",
       "IMG_5587_annotations_al.json           0.0      0.881217       0.541667   \n",
       "IMG_5590_annotations_al.json           0.0      0.814957       0.601190   \n",
       "\n",
       "                              p_av4_f3_same  av4_avg_n_total  av4_avg_n_f  \\\n",
       "IMG_5529_annotations_al.json            0.0        33.720588    33.720588   \n",
       "IMG_5587_annotations_al.json            0.0         4.266667     4.888889   \n",
       "IMG_5590_annotations_al.json            0.0         4.727273     4.615385   \n",
       "\n",
       "                              av4_avg_n_f2  av4_avg_n_f3  \n",
       "IMG_5529_annotations_al.json      0.000000           0.0  \n",
       "IMG_5587_annotations_al.json      1.666667           0.0  \n",
       "IMG_5590_annotations_al.json      1.555556           0.0  \n",
       "\n",
       "[3 rows x 22 columns]"
      ]
     },
     "execution_count": 20,
     "metadata": {},
     "output_type": "execute_result"
    }
   ],
   "source": [
    "df_stats = aa.pop_stats_pol_dir_len(df_allsplit, df_stats)\n",
    "\n",
    "df_stats.head(3)"
   ]
  },
  {
   "cell_type": "markdown",
   "metadata": {},
   "source": [
    "#### Export to csv"
   ]
  },
  {
   "cell_type": "code",
   "execution_count": null,
   "metadata": {},
   "outputs": [],
   "source": [
    "for i, df_split in enumerate(df_allsplit):\n",
    "    number = data_numbers[i]\n",
    "    df_split.to_csv('./output/stats/' + str(number) + '.csv')\n",
    "\n",
    "df_stats.to_csv('./output/summary.csv')"
   ]
  },
  {
   "cell_type": "markdown",
   "metadata": {},
   "source": [
    "### Plot positions"
   ]
  },
  {
   "cell_type": "code",
   "execution_count": null,
   "metadata": {
    "scrolled": true
   },
   "outputs": [],
   "source": [
    "#test one image\n",
    "index=4\n",
    "#print(json_files)\n",
    "\n",
    "imgpath, number = pa.get_imgpath_for_json(json_files[index])\n",
    "pa.plot_pos_cat_img(df_allsplit[index],imgpath, number, show=True, save=True)\n",
    "pa.plot_pos_ori_cat(df_allsplit[index],imgpath, number, show=True, save=True)\n",
    "pa.plot_pos_ori_cat_img(df_allsplit[index],imgpath, number, show=True, save=True)"
   ]
  },
  {
   "cell_type": "code",
   "execution_count": 13,
   "metadata": {
    "scrolled": true
   },
   "outputs": [
    {
     "data": {
      "application/vnd.jupyter.widget-view+json": {
       "model_id": "b39037739b7041fdb4c62d2338d182a9",
       "version_major": 2,
       "version_minor": 0
      },
      "text/plain": [
       "HBox(children=(IntProgress(value=0, max=37), HTML(value='')))"
      ]
     },
     "metadata": {},
     "output_type": "display_data"
    },
    {
     "name": "stdout",
     "output_type": "stream",
     "text": [
      "Image 5529:  plotted positions (./data/images/IMG_5529.jpg)\n",
      "Image 5529:  plotted positions and orientations with categories (./data/images/IMG_5529.jpg)\n",
      "Image 5529:  plotted positions and orientations with categories on image (./data/images/IMG_5529.jpg)\n",
      "Image 5587:  plotted positions (./data/images/IMG_5587.jpg)\n",
      "Image 5587:  plotted positions and orientations with categories (./data/images/IMG_5587.jpg)\n",
      "Image 5587:  plotted positions and orientations with categories on image (./data/images/IMG_5587.jpg)\n",
      "Image 5590:  plotted positions (./data/images/IMG_5590.jpg)\n",
      "Image 5590:  plotted positions and orientations with categories (./data/images/IMG_5590.jpg)\n",
      "Image 5590:  plotted positions and orientations with categories on image (./data/images/IMG_5590.jpg)\n",
      "Image 5616:  plotted positions (./data/images/IMG_5616.jpg)\n",
      "Image 5616:  plotted positions and orientations with categories (./data/images/IMG_5616.jpg)\n",
      "Image 5616:  plotted positions and orientations with categories on image (./data/images/IMG_5616.jpg)\n",
      "Image 5643:  plotted positions (./data/images/IMG_5643.jpg)\n",
      "Image 5643:  plotted positions and orientations with categories (./data/images/IMG_5643.jpg)\n",
      "Image 5643:  plotted positions and orientations with categories on image (./data/images/IMG_5643.jpg)\n",
      "Image 5666:  plotted positions (./data/images/IMG_5666.jpg)\n",
      "Image 5666:  plotted positions and orientations with categories (./data/images/IMG_5666.jpg)\n",
      "Image 5666:  plotted positions and orientations with categories on image (./data/images/IMG_5666.jpg)\n",
      "Image 5673:  plotted positions (./data/images/IMG_5673.jpg)\n",
      "Image 5673:  plotted positions and orientations with categories (./data/images/IMG_5673.jpg)\n",
      "Image 5673:  plotted positions and orientations with categories on image (./data/images/IMG_5673.jpg)\n",
      "Image 5681:  plotted positions (./data/images/IMG_5681.jpg)\n",
      "Image 5681:  plotted positions and orientations with categories (./data/images/IMG_5681.jpg)\n",
      "Image 5681:  plotted positions and orientations with categories on image (./data/images/IMG_5681.jpg)\n",
      "Image 5688:  plotted positions (./data/images/IMG_5688.jpg)\n",
      "Image 5688:  plotted positions and orientations with categories (./data/images/IMG_5688.jpg)\n",
      "Image 5688:  plotted positions and orientations with categories on image (./data/images/IMG_5688.jpg)\n",
      "Image 5693:  plotted positions (./data/images/IMG_5693.jpg)\n",
      "Image 5693:  plotted positions and orientations with categories (./data/images/IMG_5693.jpg)\n",
      "Image 5693:  plotted positions and orientations with categories on image (./data/images/IMG_5693.jpg)\n",
      "Image 5699:  plotted positions (./data/images/IMG_5699.jpg)\n",
      "Image 5699:  plotted positions and orientations with categories (./data/images/IMG_5699.jpg)\n",
      "Image 5699:  plotted positions and orientations with categories on image (./data/images/IMG_5699.jpg)\n",
      "Image 5701:  plotted positions (./data/images/IMG_5701.jpg)\n",
      "Image 5701:  plotted positions and orientations with categories (./data/images/IMG_5701.jpg)\n",
      "Image 5701:  plotted positions and orientations with categories on image (./data/images/IMG_5701.jpg)\n",
      "Image 5712:  plotted positions (./data/images/IMG_5712.jpg)\n",
      "Image 5712:  plotted positions and orientations with categories (./data/images/IMG_5712.jpg)\n",
      "Image 5712:  plotted positions and orientations with categories on image (./data/images/IMG_5712.jpg)\n",
      "Image 5718:  plotted positions (./data/images/IMG_5718.jpg)\n",
      "Image 5718:  plotted positions and orientations with categories (./data/images/IMG_5718.jpg)\n",
      "Image 5718:  plotted positions and orientations with categories on image (./data/images/IMG_5718.jpg)\n",
      "Image 5721:  plotted positions (./data/images/IMG_5721.jpg)\n",
      "Image 5721:  plotted positions and orientations with categories (./data/images/IMG_5721.jpg)\n",
      "Image 5721:  plotted positions and orientations with categories on image (./data/images/IMG_5721.jpg)\n",
      "Image 5728:  plotted positions (./data/images/IMG_5728.jpg)\n",
      "Image 5728:  plotted positions and orientations with categories (./data/images/IMG_5728.jpg)\n",
      "Image 5728:  plotted positions and orientations with categories on image (./data/images/IMG_5728.jpg)\n",
      "Image 5732:  plotted positions (./data/images/IMG_5732.jpg)\n",
      "Image 5732:  plotted positions and orientations with categories (./data/images/IMG_5732.jpg)\n",
      "Image 5732:  plotted positions and orientations with categories on image (./data/images/IMG_5732.jpg)\n",
      "Image 5738:  plotted positions (./data/images/IMG_5738.jpg)\n",
      "Image 5738:  plotted positions and orientations with categories (./data/images/IMG_5738.jpg)\n",
      "Image 5738:  plotted positions and orientations with categories on image (./data/images/IMG_5738.jpg)\n",
      "Image 5748:  plotted positions (./data/images/IMG_5748.jpg)\n",
      "Image 5748:  plotted positions and orientations with categories (./data/images/IMG_5748.jpg)\n",
      "Image 5748:  plotted positions and orientations with categories on image (./data/images/IMG_5748.jpg)\n",
      "Image 5753:  plotted positions (./data/images/IMG_5753.jpg)\n",
      "Image 5753:  plotted positions and orientations with categories (./data/images/IMG_5753.jpg)\n",
      "Image 5753:  plotted positions and orientations with categories on image (./data/images/IMG_5753.jpg)\n",
      "Image 5766:  plotted positions (./data/images/IMG_5766.jpg)\n",
      "Image 5766:  plotted positions and orientations with categories (./data/images/IMG_5766.jpg)\n",
      "Image 5766:  plotted positions and orientations with categories on image (./data/images/IMG_5766.jpg)\n",
      "Image 5777:  plotted positions (./data/images/IMG_5777.jpg)\n",
      "Image 5777:  plotted positions and orientations with categories (./data/images/IMG_5777.jpg)\n",
      "Image 5777:  plotted positions and orientations with categories on image (./data/images/IMG_5777.jpg)\n",
      "Image 5791:  plotted positions (./data/images/IMG_5791.jpg)\n",
      "Image 5791:  plotted positions and orientations with categories (./data/images/IMG_5791.jpg)\n",
      "Image 5791:  plotted positions and orientations with categories on image (./data/images/IMG_5791.jpg)\n",
      "Image 5792:  plotted positions (./data/images/IMG_5792.jpg)\n",
      "Image 5792:  plotted positions and orientations with categories (./data/images/IMG_5792.jpg)\n",
      "Image 5792:  plotted positions and orientations with categories on image (./data/images/IMG_5792.jpg)\n",
      "Image 5793:  plotted positions (./data/images/IMG_5793.jpg)\n",
      "Image 5793:  plotted positions and orientations with categories (./data/images/IMG_5793.jpg)\n",
      "Image 5793:  plotted positions and orientations with categories on image (./data/images/IMG_5793.jpg)\n",
      "Image 5795:  plotted positions (./data/images/IMG_5795.jpg)\n",
      "Image 5795:  plotted positions and orientations with categories (./data/images/IMG_5795.jpg)\n",
      "Image 5795:  plotted positions and orientations with categories on image (./data/images/IMG_5795.jpg)\n",
      "Image 5806:  plotted positions (./data/images/IMG_5806.jpg)\n",
      "Image 5806:  plotted positions and orientations with categories (./data/images/IMG_5806.jpg)\n",
      "Image 5806:  plotted positions and orientations with categories on image (./data/images/IMG_5806.jpg)\n",
      "Image 5810:  plotted positions (./data/images/IMG_5810.jpg)\n",
      "Image 5810:  plotted positions and orientations with categories (./data/images/IMG_5810.jpg)\n",
      "Image 5810:  plotted positions and orientations with categories on image (./data/images/IMG_5810.jpg)\n",
      "Image 5811:  plotted positions (./data/images/IMG_5811.jpg)\n",
      "Image 5811:  plotted positions and orientations with categories (./data/images/IMG_5811.jpg)\n",
      "Image 5811:  plotted positions and orientations with categories on image (./data/images/IMG_5811.jpg)\n",
      "Image 5823:  plotted positions (./data/images/IMG_5823.jpg)\n",
      "Image 5823:  plotted positions and orientations with categories (./data/images/IMG_5823.jpg)\n",
      "Image 5823:  plotted positions and orientations with categories on image (./data/images/IMG_5823.jpg)\n",
      "Image 5825:  plotted positions (./data/images/IMG_5825.jpg)\n",
      "Image 5825:  plotted positions and orientations with categories (./data/images/IMG_5825.jpg)\n",
      "Image 5825:  plotted positions and orientations with categories on image (./data/images/IMG_5825.jpg)\n",
      "Image 5826:  plotted positions (./data/images/IMG_5826.jpg)\n",
      "Image 5826:  plotted positions and orientations with categories (./data/images/IMG_5826.jpg)\n",
      "Image 5826:  plotted positions and orientations with categories on image (./data/images/IMG_5826.jpg)\n",
      "Image 5830:  plotted positions (./data/images/IMG_5830.jpg)\n",
      "Image 5830:  plotted positions and orientations with categories (./data/images/IMG_5830.jpg)\n",
      "Image 5830:  plotted positions and orientations with categories on image (./data/images/IMG_5830.jpg)\n",
      "Image 5832:  plotted positions (./data/images/IMG_5832.jpg)\n",
      "Image 5832:  plotted positions and orientations with categories (./data/images/IMG_5832.jpg)\n",
      "Image 5832:  plotted positions and orientations with categories on image (./data/images/IMG_5832.jpg)\n",
      "Image 5834:  plotted positions (./data/images/IMG_5834.jpg)\n",
      "Image 5834:  plotted positions and orientations with categories (./data/images/IMG_5834.jpg)\n",
      "Image 5834:  plotted positions and orientations with categories on image (./data/images/IMG_5834.jpg)\n",
      "Image 5837:  plotted positions (./data/images/IMG_5837.jpg)\n",
      "Image 5837:  plotted positions and orientations with categories (./data/images/IMG_5837.jpg)\n",
      "Image 5837:  plotted positions and orientations with categories on image (./data/images/IMG_5837.jpg)\n",
      "Image 5843:  plotted positions (./data/images/IMG_5843.jpg)\n",
      "Image 5843:  plotted positions and orientations with categories (./data/images/IMG_5843.jpg)\n",
      "Image 5843:  plotted positions and orientations with categories on image (./data/images/IMG_5843.jpg)\n",
      "\n",
      "12/03/2020, 13:36:51\n"
     ]
    }
   ],
   "source": [
    "# Plot positions of all read files\n",
    "pa.plot(df_allsplit, json_files, SHOW=False, SAVE=True)\n",
    "\n",
    "print(f\"{time.strftime('%d/%m/%Y, %H:%M:%S', time.localtime())}\")"
   ]
  },
  {
   "cell_type": "markdown",
   "metadata": {},
   "source": [
    "## TODO"
   ]
  },
  {
   "cell_type": "markdown",
   "metadata": {},
   "source": [
    "* rename columns\n",
    "* refactor much\n",
    "* convert .ipynb to .py\n",
    "* create exe file from python script"
   ]
  },
  {
   "cell_type": "code",
   "execution_count": 11,
   "metadata": {},
   "outputs": [
    {
     "name": "stdout",
     "output_type": "stream",
     "text": [
      "[  9.37462085 -11.94977966 -14.10834086  21.72976816  10.84030419]\n"
     ]
    },
    {
     "data": {
      "text/plain": [
       "3.1935405658203235"
      ]
     },
     "execution_count": 11,
     "metadata": {},
     "output_type": "execute_result"
    }
   ],
   "source": [
    "angles = [0.163618, -0.208563, -0.246237, 0.379256, 0.189199]\n",
    "angles_deg = np.degrees(angles)\n",
    "\n",
    "print(angles_deg)\n",
    "\n",
    "msin = np.mean(np.sin(angles))\n",
    "mcos = np.mean(np.cos(angles))\n",
    "np.degrees(np.arctan2(msin,mcos))\n",
    "\n",
    "\n"
   ]
  },
  {
   "cell_type": "code",
   "execution_count": 77,
   "metadata": {},
   "outputs": [
    {
     "name": "stdout",
     "output_type": "stream",
     "text": [
      "[[1.         0.        ]\n",
      " [0.33333333 0.66666667]]\n",
      "[0.66666667 0.33333333]\n",
      "0.7453559924999299\n",
      "0.5555555555555556\n",
      "[[1.         0.        ]\n",
      " [0.66666667 0.33333333]]\n",
      "[0.83333333 0.16666667]\n",
      "0.8498365855987974\n",
      "0.7222222222222221\n"
     ]
    }
   ],
   "source": [
    "v = [[1, 0],[0.5, 1]]\n",
    "v_normalized = preprocessing.normalize(v, norm='l1')\n",
    "print(v_normalized)\n",
    "v_mean_unit = np.mean(v_normalized, axis=0)\n",
    "print(v_mean_unit)\n",
    "\n",
    "\n",
    "ord = 2\n",
    "print(np.linalg.norm(v_mean_unit, ord=ord))\n",
    "print(np.square(np.linalg.norm(v_mean_unit, ord=ord)))\n",
    "\n",
    "\n",
    "v = [[1, 0],[1, 0.5]]\n",
    "v_normalized = preprocessing.normalize(v, norm='l1')\n",
    "print(v_normalized)\n",
    "v_mean_unit = np.mean(v_normalized, axis=0)\n",
    "print(v_mean_unit)\n",
    "\n",
    "\n",
    "ord = 2\n",
    "print(np.linalg.norm(v_mean_unit, ord=ord))\n",
    "print(np.square(np.linalg.norm(v_mean_unit, ord=ord)))\n",
    "\n"
   ]
  },
  {
   "cell_type": "code",
   "execution_count": 72,
   "metadata": {},
   "outputs": [
    {
     "name": "stdout",
     "output_type": "stream",
     "text": [
      "pos:\n",
      "[[1, 0], [1, 1]]\n",
      "normalized_pos:\n",
      "[[1. 0.]\n",
      " [1. 1.]]\n",
      "mean normalized vector: [1.0, 0.5]\n",
      "pol: 1.0\n"
     ]
    }
   ],
   "source": [
    "# v = [[0,2], [10,0], [-10,0]]\n",
    "v = [[1,0], [1,1]]\n",
    "print(f\"pos:\\n{v}\")\n",
    "v_normalized = preprocessing.normalize(v, norm='max')\n",
    "print(f\"normalized_pos:\\n{v_normalized}\")\n",
    "v_mean = np.mean(v_normalized, axis=0)\n",
    "print(f\"mean normalized vector: {v_mean.tolist()}\")\n",
    "pol = np.linalg.norm(v_mean, ord=np.inf)\n",
    "# pol = np.linalg.norm(v_mean)\n",
    "\n",
    "print(f\"pol: {pol}\")"
   ]
  },
  {
   "cell_type": "code",
   "execution_count": 66,
   "metadata": {},
   "outputs": [
    {
     "name": "stdout",
     "output_type": "stream",
     "text": [
      "pos:\n",
      "[[0, 1], [1, 1]]\n",
      "unit vectors:\n",
      "[[0.         1.        ]\n",
      " [0.70710678 0.70710678]]\n",
      "mean unit vector: [0.35355339059327373, 0.8535533905932737]\n",
      "pol: 0.9238795325112867\n"
     ]
    }
   ],
   "source": [
    "# v = [[0,2], [10,0], [-10,0]]\n",
    "v = [[0,1], [1,1]]\n",
    "\n",
    "print(f\"pos:\\n{v}\")\n",
    "# # print(f\"magnitudes: {np.linalg.norm(v, axis=0)}\")\n",
    "# v_normalized = preprocessing.normalize(v, norm='l2')\n",
    "# print(f\"normalized_pos:\\n{v_normalized}\")\n",
    "# v_mean = np.mean(v_normalized, axis=0)\n",
    "# print(f\"mean normalized vector: {v_mean.tolist()}\")\n",
    "# pol = np.linalg.norm(v_mean, ord=np.inf)\n",
    "# # pol = np.linalg.norm(v_mean)\n",
    "\n",
    "unit_vectors = preprocessing.normalize(v, norm='l2')\n",
    "print(f\"unit vectors:\\n{unit_vectors}\")\n",
    "\n",
    "mean_of_sum_of_unitv = np.mean(unit_vectors, axis=0)\n",
    "print(f\"mean unit vector: {mean_of_sum_of_unitv.tolist()}\")\n",
    "\n",
    "mag_meanv = np.linalg.norm(mean_of_sum_of_unitv)\n",
    "\n",
    "pol = mag_meanv\n",
    "\n",
    "print(f\"pol: {pol}\")"
   ]
  },
  {
   "cell_type": "code",
   "execution_count": 3,
   "metadata": {},
   "outputs": [
    {
     "data": {
      "text/plain": [
       "(array([ 210.,  238.,  221.,  227.,  228.,  222.,  226.,  222.,  202.,\n",
       "         221.,  226.,  214.,  259.,  208.,  244.,  240.,  244.,  249.,\n",
       "         306.,  305.,  313.,  310.,  335.,  362.,  340.,  404.,  458.,\n",
       "         499.,  649., 1618.]),\n",
       " array([2.06959764e-04, 3.35333913e-02, 6.68598229e-02, 1.00186254e-01,\n",
       "        1.33512686e-01, 1.66839118e-01, 2.00165549e-01, 2.33491981e-01,\n",
       "        2.66818412e-01, 3.00144844e-01, 3.33471275e-01, 3.66797707e-01,\n",
       "        4.00124138e-01, 4.33450570e-01, 4.66777001e-01, 5.00103433e-01,\n",
       "        5.33429865e-01, 5.66756296e-01, 6.00082728e-01, 6.33409159e-01,\n",
       "        6.66735591e-01, 7.00062022e-01, 7.33388454e-01, 7.66714885e-01,\n",
       "        8.00041317e-01, 8.33367749e-01, 8.66694180e-01, 9.00020612e-01,\n",
       "        9.33347043e-01, 9.66673475e-01, 9.99999906e-01]),\n",
       " <a list of 30 Patch objects>)"
      ]
     },
     "execution_count": 3,
     "metadata": {},
     "output_type": "execute_result"
    },
    {
     "data": {
      "image/png": "[encoded data removed]",
      "text/plain": [
       "<Figure size 1440x720 with 1 Axes>"
      ]
     },
     "metadata": {
      "needs_background": "light"
     },
     "output_type": "display_data"
    }
   ],
   "source": [
    "# v1 = np.random.rand(10000,2)\n",
    "# v2 = np.random.rand(10000,2)\n",
    "\n",
    "v1 = np.random.uniform(-1, 1, (10000, 2))\n",
    "v2 = np.random.uniform(-1, 1, (10000, 2))\n",
    "\n",
    "pols = []\n",
    "for idx, v in enumerate(v1):\n",
    "    twov = [v, v2[idx]]\n",
    "    unit_vectors = preprocessing.normalize(twov, norm='l2')\n",
    "    mean_of_sum_of_unitv = np.mean(unit_vectors, axis=0)\n",
    "    mag_meanv = np.linalg.norm(mean_of_sum_of_unitv)\n",
    "    pols.append(mag_meanv)\n",
    "#     v_normalized = preprocessing.normalize(twov, norm='l1')\n",
    "#     v_mean = np.mean(v_normalized, axis=0)\n",
    "#     pol = np.linalg.norm(v_mean, ord=np.inf)\n",
    "#     pols.append(pol)\n",
    "\n",
    "    \n",
    "plt.figure(figsize=(20,10))\n",
    "plt.hist(pols, bins=30)\n"
   ]
  },
  {
   "cell_type": "code",
   "execution_count": 2,
   "metadata": {},
   "outputs": [
    {
     "data": {
      "text/plain": [
       "(array([ 69.,  58.,  73.,  82.,  73.,  77.,  88.,  96., 120., 264.]),\n",
       " array([9.03593523e-05, 1.00081322e-01, 2.00072284e-01, 3.00063247e-01,\n",
       "        4.00054210e-01, 5.00045172e-01, 6.00036135e-01, 7.00027097e-01,\n",
       "        8.00018060e-01, 9.00009022e-01, 9.99999985e-01]),\n",
       " <a list of 10 Patch objects>)"
      ]
     },
     "execution_count": 2,
     "metadata": {},
     "output_type": "execute_result"
    },
    {
     "data": {
      "image/png": "[encoded data removed]",
      "text/plain": [
       "<Figure size 432x288 with 1 Axes>"
      ]
     },
     "metadata": {
      "needs_background": "light"
     },
     "output_type": "display_data"
    }
   ],
   "source": [
    "# https://www.sciencedirect.com/science/article/pii/S0960982217310138\n",
    "\n",
    "v1 = np.random.uniform(-1, 1, (1000, 2))\n",
    "v2 = np.random.uniform(-1, 1, (1000, 2))\n",
    "\n",
    "pols = []\n",
    "\n",
    "for idx, v in enumerate(v1):\n",
    "    angle1 = np.arctan2(v[1], v[0])\n",
    "    angle2 = np.arctan2(v2[idx][1], v2[idx][0])\n",
    "    \n",
    "    sm = (np.square(np.sin(angle1) + np.sin(angle2))) + (np.square(np.cos(angle1) + np.cos(angle2)))\n",
    "    rt = np.sqrt(sm)\n",
    "    pol = rt/2\n",
    "    \n",
    "    pols.append(pol)\n",
    "\n",
    "plt.hist(pols)\n",
    "    \n",
    "    "
   ]
  }
 ],
 "metadata": {
  "kernelspec": {
   "display_name": "Python 3",
   "language": "python",
   "name": "python3"
  },
  "language_info": {
   "codemirror_mode": {
    "name": "ipython",
    "version": 3
   },
   "file_extension": ".py",
   "mimetype": "text/x-python",
   "name": "python",
   "nbconvert_exporter": "python",
   "pygments_lexer": "ipython3",
   "version": "3.7.1"
  }
 },
 "nbformat": 4,
 "nbformat_minor": 4
}
